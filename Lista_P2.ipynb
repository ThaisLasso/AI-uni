{
  "nbformat": 4,
  "nbformat_minor": 0,
  "metadata": {
    "colab": {
      "name": "Lista_P2.ipynb",
      "provenance": [],
      "collapsed_sections": [],
      "include_colab_link": true
    },
    "kernelspec": {
      "name": "python3",
      "display_name": "Python 3"
    },
    "language_info": {
      "name": "python"
    }
  },
  "cells": [
    {
      "cell_type": "markdown",
      "metadata": {
        "id": "view-in-github",
        "colab_type": "text"
      },
      "source": [
        "<a href=\"https://colab.research.google.com/github/ThaisLasso/repo/blob/main/Lista_P2.ipynb\" target=\"_parent\"><img src=\"https://colab.research.google.com/assets/colab-badge.svg\" alt=\"Open In Colab\"/></a>"
      ]
    },
    {
      "cell_type": "markdown",
      "source": [
        "\n",
        "Nos exercı́cios abaixo, considere as seguintes conexões entre cidades e o custo para trafegar entre elas. Considere A como estado inicial e F como estado meta.\n",
        "\n",
        "\n",
        "![grafo.png](data:image/png;base64,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)\n",
        "\n",
        "\n"
      ],
      "metadata": {
        "id": "z_bDo5GdA0Yp"
      }
    },
    {
      "cell_type": "code",
      "source": [
        "grafo = {\n",
        "    'A' : ['B','C'],\n",
        "    'B' : ['A','C','D'],\n",
        "    'C' : ['A','B','D','E','F'],\n",
        "    'D' : ['B','C','F'],\n",
        "    'E' : ['C','F'],\n",
        "    'F' : ['C','D','E']\n",
        "}\n",
        "\n",
        "global custo\n",
        "custo = {\n",
        "    'AB' : 1,    'AC' : 5,    'BC' : 2,    'BD' : 1,\n",
        "    'CD' : 5,    'CE' : 1,    'CF' : 3,    'DF' : 5,\n",
        "    'EF' : 1,    'BA' : 1,    'CA' : 5,    'CB' : 2,\n",
        "    'DB' : 1,    'DC' : 5,    'EC' : 1,    'FC' : 3,\n",
        "    'FD' : 5,    'FE' : 1\n",
        "}"
      ],
      "metadata": {
        "id": "6FLHdjDOCIXn"
      },
      "execution_count": null,
      "outputs": []
    },
    {
      "cell_type": "code",
      "source": [
        "def ExpandeSemRepetir(escolhido,grafo,fronteira,nos_union):\n",
        "  for no in grafo[escolhido[-1]]:\n",
        "    if no not in nos_union:\n",
        "      fronteira.add( escolhido + no )\n",
        "      nos_union.add(no)\n",
        "  return fronteira,nos_union\n",
        "\n",
        "def ExpandeRepetindo(escolhido,grafo,fronteira,nos_union):\n",
        "  for no in grafo[escolhido[-1]]:\n",
        "    fronteira.add( escolhido + no )\n",
        "    nos_union.add(no)\n",
        "  return fronteira,nos_union\n",
        "\n",
        "def Busca(grafo,ini,fim,EscolheNo,Expande):\n",
        "  fronteira = {ini}\n",
        "  explorado = set()\n",
        "  nos_union = {ini}\n",
        "  while True:\n",
        "    print(fronteira)\n",
        "    if len(fronteira) == 0:\n",
        "      return False\n",
        "    escolhido = EscolheNo(fronteira)\n",
        "    fronteira.remove(escolhido)\n",
        "    print(escolhido)\n",
        "    if escolhido[-1] == fim:\n",
        "      return True\n",
        "    explorado.add(escolhido)\n",
        "    nos_union.add(escolhido[-1])\n",
        "    fronteira,nos_union = Expande(escolhido,grafo,fronteira,nos_union)"
      ],
      "metadata": {
        "id": "XfuFCw1wEPne"
      },
      "execution_count": null,
      "outputs": []
    },
    {
      "cell_type": "markdown",
      "source": [
        "1. **Busca Cega:** desenhe a árvore de busca para cada um dos algoritmos abaixo. Utilize a ordem alfabética para desempate entre nós a serem expandidos. Indique na árvore a ordem em que os nós foram expandidos."
      ],
      "metadata": {
        "id": "DOz0-hcrB4xN"
      }
    },
    {
      "cell_type": "markdown",
      "source": [
        "(1.a) Busca em largura sem repetir nós na árvore."
      ],
      "metadata": {
        "id": "GMD0vJt4D5fK"
      }
    },
    {
      "cell_type": "code",
      "execution_count": null,
      "metadata": {
        "colab": {
          "base_uri": "https://localhost:8080/"
        },
        "id": "WEPwjZ3GAzYB",
        "outputId": "20e9ce5c-b681-4644-ae09-89c730c378b9"
      },
      "outputs": [
        {
          "output_type": "stream",
          "name": "stdout",
          "text": [
            "Ordem dos nós expandidos:\n",
            "{'A'}\n",
            "A\n",
            "{'AC', 'AB'}\n",
            "AB\n",
            "{'AC', 'ABD'}\n",
            "AC\n",
            "{'ACE', 'ACF', 'ABD'}\n",
            "ABD\n",
            "{'ACE', 'ACF'}\n",
            "ACE\n",
            "{'ACF'}\n",
            "ACF\n"
          ]
        },
        {
          "output_type": "execute_result",
          "data": {
            "text/plain": [
              "True"
            ]
          },
          "metadata": {},
          "execution_count": 129
        }
      ],
      "source": [
        "def EscolheNoLargura(fronteira):\n",
        "  escolhido = 'F'*100\n",
        "  for no in fronteira:\n",
        "    if len(no) < len(escolhido):\n",
        "      escolhido = no\n",
        "    elif len(no) == len(escolhido) and no[-1] < escolhido[-1]:\n",
        "      escolhido = no\n",
        "  return escolhido\n",
        "\n",
        "print('Ordem dos nós expandidos:')\n",
        "Busca(grafo,'A','F',EscolheNoLargura,ExpandeSemRepetir)\n"
      ]
    },
    {
      "cell_type": "markdown",
      "source": [
        "(1.b) Busca em largura sem checar para repetição de nós (permita que nós sejam repetidos)."
      ],
      "metadata": {
        "id": "FR9lDGEIe0JD"
      }
    },
    {
      "cell_type": "code",
      "source": [
        "print('Ordem dos nós expandidos:')\n",
        "Busca(grafo,'A','F',EscolheNoLargura,ExpandeRepetindo)"
      ],
      "metadata": {
        "colab": {
          "base_uri": "https://localhost:8080/"
        },
        "id": "t1gDuENHe7ME",
        "outputId": "7b65ae46-c076-42d7-e221-96420743c228"
      },
      "execution_count": null,
      "outputs": [
        {
          "output_type": "stream",
          "name": "stdout",
          "text": [
            "Ordem dos nós expandidos:\n",
            "{'A'}\n",
            "A\n",
            "{'AC', 'AB'}\n",
            "AB\n",
            "{'ABA', 'AC', 'ABD', 'ABC'}\n",
            "AC\n",
            "{'ABA', 'ACA', 'ACD', 'ACF', 'ACB', 'ACE', 'ABD', 'ABC'}\n",
            "ABA\n",
            "{'ACA', 'ACD', 'ACF', 'ABAB', 'ACB', 'ABAC', 'ACE', 'ABD', 'ABC'}\n",
            "ACA\n",
            "{'ACAB', 'ACD', 'ACF', 'ABAB', 'ACB', 'ABAC', 'ACAC', 'ACE', 'ABD', 'ABC'}\n",
            "ACB\n",
            "{'ACAB', 'ACD', 'ACF', 'ABAB', 'ABAC', 'ACAC', 'ACE', 'ACBA', 'ACBC', 'ABD', 'ACBD', 'ABC'}\n",
            "ABC\n",
            "{'ACAB', 'ACD', 'ABAC', 'ABCA', 'ABCF', 'ACBC', 'ABD', 'ABCB', 'ACF', 'ABAB', 'ABCE', 'ACAC', 'ACE', 'ACBA', 'ABCD', 'ACBD'}\n",
            "ACD\n",
            "{'ACAB', 'ABAC', 'ABCA', 'ABCF', 'ACBC', 'ABD', 'ABCB', 'ACF', 'ABAB', 'ACDC', 'ABCE', 'ACAC', 'ACE', 'ACBA', 'ABCD', 'ACBD', 'ACDF', 'ACDB'}\n",
            "ABD\n",
            "{'ACAB', 'ABAC', 'ABCA', 'ABCF', 'ACBC', 'ABCB', 'ABDF', 'ACF', 'ABAB', 'ABDB', 'ABDC', 'ACDC', 'ABCE', 'ACAC', 'ACE', 'ACBA', 'ABCD', 'ACBD', 'ACDF', 'ACDB'}\n",
            "ACE\n",
            "{'ACEC', 'ACAB', 'ABAC', 'ABCA', 'ABCF', 'ACBC', 'ACEF', 'ABCB', 'ABDF', 'ACF', 'ABAB', 'ABDB', 'ABDC', 'ACDC', 'ABCE', 'ACAC', 'ACBA', 'ABCD', 'ACBD', 'ACDF', 'ACDB'}\n",
            "ACF\n"
          ]
        },
        {
          "output_type": "execute_result",
          "data": {
            "text/plain": [
              "True"
            ]
          },
          "metadata": {},
          "execution_count": 130
        }
      ]
    },
    {
      "cell_type": "markdown",
      "source": [
        "(1.c) Busca em profundidade sem repetir nós na árvore."
      ],
      "metadata": {
        "id": "hRRn97ZBfsSM"
      }
    },
    {
      "cell_type": "code",
      "source": [
        "def EscolheNoProfundidade(fronteira):\n",
        "  escolhido = ''\n",
        "  for no in fronteira:\n",
        "    if len(no) > len(escolhido):\n",
        "      escolhido = no\n",
        "    elif len(no) == len(escolhido) and no[-1] < escolhido[-1]:\n",
        "      escolhido = no\n",
        "  return escolhido\n",
        "\n",
        "print('Ordem dos nós expandidos:')\n",
        "Busca(grafo,'A','F',EscolheNoProfundidade,ExpandeSemRepetir)"
      ],
      "metadata": {
        "colab": {
          "base_uri": "https://localhost:8080/"
        },
        "id": "xOoz40LDft4y",
        "outputId": "b2397485-994b-4ee1-8b68-20b169faaa31"
      },
      "execution_count": null,
      "outputs": [
        {
          "output_type": "stream",
          "name": "stdout",
          "text": [
            "Ordem dos nós expandidos:\n",
            "{'A'}\n",
            "A\n",
            "{'AC', 'AB'}\n",
            "AB\n",
            "{'AC', 'ABD'}\n",
            "ABD\n",
            "{'AC', 'ABDF'}\n",
            "ABDF\n"
          ]
        },
        {
          "output_type": "execute_result",
          "data": {
            "text/plain": [
              "True"
            ]
          },
          "metadata": {},
          "execution_count": 131
        }
      ]
    },
    {
      "cell_type": "markdown",
      "source": [
        "(1.d) Busca em profundidade limitada (ℓ = 6 nós) sem checar para repetição de nós (permita que nós sejam repetidos)."
      ],
      "metadata": {
        "id": "f45FPa81hsCX"
      }
    },
    {
      "cell_type": "code",
      "source": [
        "global l\n",
        "l = 6\n",
        "def ExpandeLimitada(escolhido,grafo,fronteira,nos_union):\n",
        "  if len(escolhido) >= l:\n",
        "    return fronteira,nos_union\n",
        "  for no in grafo[escolhido[-1]]:\n",
        "    fronteira.add( escolhido + no )\n",
        "    nos_union.add(no)\n",
        "  return fronteira,nos_union\n",
        "\n",
        "print('Ordem dos nós expandidos:')\n",
        "Busca(grafo,'A','F',EscolheNoProfundidade,ExpandeLimitada)"
      ],
      "metadata": {
        "colab": {
          "base_uri": "https://localhost:8080/"
        },
        "id": "ugGvLjCzhrL9",
        "outputId": "88b7015f-4a42-42c2-a07a-65d1c6ae0e68"
      },
      "execution_count": null,
      "outputs": [
        {
          "output_type": "stream",
          "name": "stdout",
          "text": [
            "Ordem dos nós expandidos:\n",
            "{'A'}\n",
            "A\n",
            "{'AC', 'AB'}\n",
            "AB\n",
            "{'ABA', 'AC', 'ABD', 'ABC'}\n",
            "ABA\n",
            "{'ABAB', 'AC', 'ABAC', 'ABD', 'ABC'}\n",
            "ABAB\n",
            "{'ABABC', 'ABABA', 'AC', 'ABAC', 'ABABD', 'ABD', 'ABC'}\n",
            "ABABA\n",
            "{'ABABC', 'ABABAB', 'AC', 'ABABAC', 'ABAC', 'ABABD', 'ABD', 'ABC'}\n",
            "ABABAB\n",
            "{'ABABC', 'AC', 'ABABAC', 'ABAC', 'ABABD', 'ABD', 'ABC'}\n",
            "ABABAC\n",
            "{'ABABC', 'AC', 'ABAC', 'ABABD', 'ABD', 'ABC'}\n",
            "ABABC\n",
            "{'ABABCF', 'ABABCD', 'ABABCA', 'ABABCB', 'ABABCE', 'AC', 'ABAC', 'ABABD', 'ABD', 'ABC'}\n",
            "ABABCA\n",
            "{'ABABCF', 'ABABCD', 'ABABCB', 'ABABCE', 'AC', 'ABAC', 'ABABD', 'ABD', 'ABC'}\n",
            "ABABCB\n",
            "{'ABABCF', 'ABABCD', 'ABABCE', 'AC', 'ABAC', 'ABABD', 'ABD', 'ABC'}\n",
            "ABABCD\n",
            "{'ABABCF', 'ABABCE', 'AC', 'ABAC', 'ABABD', 'ABD', 'ABC'}\n",
            "ABABCE\n",
            "{'ABABCF', 'AC', 'ABAC', 'ABABD', 'ABD', 'ABC'}\n",
            "ABABCF\n"
          ]
        },
        {
          "output_type": "execute_result",
          "data": {
            "text/plain": [
              "True"
            ]
          },
          "metadata": {},
          "execution_count": 132
        }
      ]
    },
    {
      "cell_type": "markdown",
      "source": [
        "(1.e) Busca em profundidade iterativa sem checar para repetição de nós (permita que nós sejam repetidos)."
      ],
      "metadata": {
        "id": "W0MwzPLVi6t0"
      }
    },
    {
      "cell_type": "code",
      "source": [
        "l=1\n",
        "resultado = False\n",
        "while resultado == False:\n",
        "  print('Ordem dos nós expandidos com profundidade',l)\n",
        "  resultado = Busca(grafo,'A','F',EscolheNoProfundidade,ExpandeLimitada)\n",
        "  l = l+1"
      ],
      "metadata": {
        "colab": {
          "base_uri": "https://localhost:8080/"
        },
        "id": "XhvtL-4KjC4d",
        "outputId": "3662897b-ab74-4db5-d7d8-6995b7dc0226"
      },
      "execution_count": null,
      "outputs": [
        {
          "output_type": "stream",
          "name": "stdout",
          "text": [
            "Ordem dos nós expandidos com profundidade 1\n",
            "{'A'}\n",
            "A\n",
            "set()\n",
            "Ordem dos nós expandidos com profundidade 2\n",
            "{'A'}\n",
            "A\n",
            "{'AC', 'AB'}\n",
            "AB\n",
            "{'AC'}\n",
            "AC\n",
            "set()\n",
            "Ordem dos nós expandidos com profundidade 3\n",
            "{'A'}\n",
            "A\n",
            "{'AC', 'AB'}\n",
            "AB\n",
            "{'ABA', 'AC', 'ABD', 'ABC'}\n",
            "ABA\n",
            "{'AC', 'ABD', 'ABC'}\n",
            "ABC\n",
            "{'AC', 'ABD'}\n",
            "ABD\n",
            "{'AC'}\n",
            "AC\n",
            "{'ACA', 'ACD', 'ACF', 'ACB', 'ACE'}\n",
            "ACA\n",
            "{'ACD', 'ACF', 'ACB', 'ACE'}\n",
            "ACB\n",
            "{'ACD', 'ACF', 'ACE'}\n",
            "ACD\n",
            "{'ACF', 'ACE'}\n",
            "ACE\n",
            "{'ACF'}\n",
            "ACF\n"
          ]
        }
      ]
    },
    {
      "cell_type": "markdown",
      "source": [
        "(1.f) Busca de custo uniforme (desempate pelo nó mais raso e depois pela ordem alfabética). Quando ocorrer nós repetidos, mantenha apenas o de menor custo acumulado."
      ],
      "metadata": {
        "id": "TtqIoZxFkMkg"
      }
    },
    {
      "cell_type": "code",
      "source": [
        "def CustoAcumulado(escolhido):\n",
        "  accum = 0\n",
        "  for i in range(len(escolhido)-1):\n",
        "    accum = accum + custo[escolhido[i:i+2]]\n",
        "  return accum\n",
        "\n",
        "def TrocaSePossivel(escolhido,fronteira):\n",
        "  for no in fronteira:\n",
        "    if no[-1] == escolhido[-1]:\n",
        "      if CustoAcumulado(escolhido) < CustoAcumulado(no):\n",
        "        fronteira.remove(no)\n",
        "        fronteira.add(escolhido)\n",
        "  return fronteira\n",
        "\n",
        "\n",
        "def ExpandeSemRepetirMenorCusto(escolhido,grafo,fronteira,nos_union):\n",
        "  for no in grafo[escolhido[-1]]:\n",
        "    if no not in nos_union:\n",
        "      fronteira.add( escolhido + no )\n",
        "      nos_union.add(no)\n",
        "    else:\n",
        "      fronteira = TrocaSePossivel(escolhido + no,fronteira)\n",
        "\n",
        "  return fronteira,nos_union\n",
        "\n",
        "def EscolheCustoUniforme(fronteira):\n",
        "  escolhido = 'AC'*10\n",
        "  for no in fronteira:\n",
        "    if CustoAcumulado(no) < CustoAcumulado(escolhido):\n",
        "      escolhido = no\n",
        "    elif CustoAcumulado(no) == CustoAcumulado(escolhido) and len(no) < len(escolhido):\n",
        "      escolhido = no\n",
        "    elif CustoAcumulado(no) == CustoAcumulado(escolhido) and len(no) == len(escolhido) and no[-1] < escolhido[-1]:\n",
        "      escolhido = no\n",
        "  return escolhido\n",
        "\n",
        "print('Ordem dos nós expandidos:')\n",
        "Busca(grafo,'A','F',EscolheCustoUniforme,ExpandeSemRepetirMenorCusto)"
      ],
      "metadata": {
        "colab": {
          "base_uri": "https://localhost:8080/"
        },
        "id": "dYUbFjPYkaEF",
        "outputId": "e76ca117-a2b7-4059-926e-34b835d97061"
      },
      "execution_count": null,
      "outputs": [
        {
          "output_type": "stream",
          "name": "stdout",
          "text": [
            "Ordem dos nós expandidos:\n",
            "{'A'}\n",
            "A\n",
            "{'AC', 'AB'}\n",
            "AB\n",
            "{'ABD', 'ABC'}\n",
            "ABD\n",
            "{'ABDF', 'ABC'}\n",
            "ABC\n",
            "{'ABCF', 'ABCE'}\n",
            "ABCE\n",
            "{'ABCEF'}\n",
            "ABCEF\n"
          ]
        },
        {
          "output_type": "execute_result",
          "data": {
            "text/plain": [
              "True"
            ]
          },
          "metadata": {},
          "execution_count": 134
        }
      ]
    },
    {
      "cell_type": "markdown",
      "source": [
        "**Busca Informada:** desenhe a árvore de busca para cada um dos algoritmos abaixo. Utilize a ordem alfabética para desempate entre nós a serem expandidos. Indique na árvore a ordem em que os nós foram expandidos. Considere a seguinte função heurı́stica:"
      ],
      "metadata": {
        "id": "7PiW7oQbvXFJ"
      }
    },
    {
      "cell_type": "code",
      "source": [
        "global h\n",
        "h = { 'A' : 3,\n",
        "      'B' : 2,\n",
        "      'C' : 1,\n",
        "      'D' : 3,\n",
        "      'E' : 1,\n",
        "      'F' : 0,\n",
        "      'X' : 1000\n",
        "     }"
      ],
      "metadata": {
        "id": "EQ7IqURFkvbr"
      },
      "execution_count": null,
      "outputs": []
    },
    {
      "cell_type": "markdown",
      "source": [
        "(2.a) Busca Gulosa (desempate pelo nó mais raso e depois pela ordem alfabética). Quando ocorrer nós repetidos, mantenha apenas o mais raso."
      ],
      "metadata": {
        "id": "f948HIjOvwEw"
      }
    },
    {
      "cell_type": "code",
      "source": [
        "def EscolheGulosa(fronteira):\n",
        "  escolhido = 'X'\n",
        "  for no in fronteira:\n",
        "    if h[no[-1]] < h[escolhido[-1]]:\n",
        "      escolhido = no\n",
        "    elif h[no[-1]] == h[escolhido[-1]] and len(no) < len(escolhido):\n",
        "      escolhido = no\n",
        "    elif h[no[-1]] == h[escolhido[-1]] and len(no) == len(escolhido) and no[-1] < escolhido[-1]:\n",
        "      escolhido = no\n",
        "  return escolhido\n",
        "\n",
        "print('Fronteira e nós expandidos:')\n",
        "Busca(grafo,'A','F',EscolheGulosa,ExpandeSemRepetir)"
      ],
      "metadata": {
        "colab": {
          "base_uri": "https://localhost:8080/"
        },
        "id": "-nJb20B5v29k",
        "outputId": "a9fd0ff3-e9b2-4134-a536-246c8f0faf44"
      },
      "execution_count": null,
      "outputs": [
        {
          "output_type": "stream",
          "name": "stdout",
          "text": [
            "Fronteira e nós expandidos:\n",
            "{'A'}\n",
            "A\n",
            "{'AC', 'AB'}\n",
            "AC\n",
            "{'ACD', 'ACE', 'ACF', 'AB'}\n",
            "ACF\n"
          ]
        },
        {
          "output_type": "execute_result",
          "data": {
            "text/plain": [
              "True"
            ]
          },
          "metadata": {},
          "execution_count": 136
        }
      ]
    },
    {
      "cell_type": "markdown",
      "source": [
        "(2.b) Busca A∗ (desempate pelo nó mais raso e depois pela ordem alfabética). Quando ocorrer nós repetidos, mantenha apenas o de menor custo acumulado."
      ],
      "metadata": {
        "id": "apCNj2zzxwsz"
      }
    },
    {
      "cell_type": "code",
      "source": [
        "def EscolheAestrela(fronteira):\n",
        "  escolhido = 'AC'*10\n",
        "  for no in fronteira:\n",
        "    if CustoAcumulado(no) + h[no[-1]] < CustoAcumulado(escolhido) + h[escolhido[-1]]:\n",
        "      escolhido = no\n",
        "    elif CustoAcumulado(no) + h[no[-1]] == CustoAcumulado(escolhido) + h[escolhido[-1]] and len(no) < len(escolhido):\n",
        "      escolhido = no\n",
        "    elif CustoAcumulado(no) + h[no[-1]] == CustoAcumulado(escolhido) + h[escolhido[-1]] and len(no) == len(escolhido) and no[-1] < escolhido[-1]:\n",
        "      escolhido = no\n",
        "  return escolhido\n",
        "\n",
        "print('Ordem dos nós expandidos:')\n",
        "Busca(grafo,'A','F',EscolheAestrela,ExpandeSemRepetirMenorCusto)"
      ],
      "metadata": {
        "colab": {
          "base_uri": "https://localhost:8080/"
        },
        "id": "QsoxcvXwx4nQ",
        "outputId": "c69ad8db-fff4-4d85-9329-06d7d2392378"
      },
      "execution_count": null,
      "outputs": [
        {
          "output_type": "stream",
          "name": "stdout",
          "text": [
            "Ordem dos nós expandidos:\n",
            "{'A'}\n",
            "A\n",
            "{'AC', 'AB'}\n",
            "AB\n",
            "{'ABD', 'ABC'}\n",
            "ABC\n",
            "{'ABD', 'ABCE', 'ABCF'}\n",
            "ABD\n",
            "{'ABCE', 'ABCF'}\n",
            "ABCE\n",
            "{'ABCEF'}\n",
            "ABCEF\n"
          ]
        },
        {
          "output_type": "execute_result",
          "data": {
            "text/plain": [
              "True"
            ]
          },
          "metadata": {},
          "execution_count": 137
        }
      ]
    },
    {
      "cell_type": "markdown",
      "source": [
        "**Programação Dinâmica:**\n",
        "\n",
        "(3.a) Síncrona: utilize a equação abaixo para preencher a tabela abaixo ($N (s)$ são os vizinhos de $s$). Note que em cada iteração $t$ é utilizado os valores da iteração $t − 1$.\n",
        "\n",
        "  $$V_{t}(s) \\gets \\min_{s'\\in N(s)}\\left\\{ c(s,s') + V_{t-1}(s')\\right\\}$$\n",
        "\n"
      ],
      "metadata": {
        "id": "IG4nbUeY0PXd"
      }
    },
    {
      "cell_type": "code",
      "source": [
        "V = { 'A' : 0, 'B' : 0, 'C' : 0, 'D' : 0, 'E' : 0, 'F' : 0 }\n",
        "Vs = [None]*7\n",
        "Vs[0] = V\n",
        "print('V{}(s) = {}'.format(0,Vs[0]))\n",
        "for t in range(1,7):\n",
        "  Vs[t] = {}\n",
        "  for s in 'ABCDE':\n",
        "    values = [];\n",
        "    for ss in grafo[s]:\n",
        "      v = custo[s+ss] + Vs[t-1][ss]\n",
        "      values = values + [v]\n",
        "    Vs[t][s] = min(values)\n",
        "  Vs[t]['F'] = 0\n",
        "  print('V{}(s) = {}'.format(t,Vs[t]))\n"
      ],
      "metadata": {
        "colab": {
          "base_uri": "https://localhost:8080/"
        },
        "id": "i4rbp_dM1JER",
        "outputId": "aefecdf3-1511-4ce3-d6c8-8f60ecc9cd09"
      },
      "execution_count": null,
      "outputs": [
        {
          "output_type": "stream",
          "name": "stdout",
          "text": [
            "V0(s) = {'A': 0, 'B': 0, 'C': 0, 'D': 0, 'E': 0, 'F': 0}\n",
            "V1(s) = {'A': 1, 'B': 1, 'C': 1, 'D': 1, 'E': 1, 'F': 0}\n",
            "V2(s) = {'A': 2, 'B': 2, 'C': 2, 'D': 2, 'E': 1, 'F': 0}\n",
            "V3(s) = {'A': 3, 'B': 3, 'C': 2, 'D': 3, 'E': 1, 'F': 0}\n",
            "V4(s) = {'A': 4, 'B': 4, 'C': 2, 'D': 4, 'E': 1, 'F': 0}\n",
            "V5(s) = {'A': 5, 'B': 4, 'C': 2, 'D': 5, 'E': 1, 'F': 0}\n",
            "V6(s) = {'A': 5, 'B': 4, 'C': 2, 'D': 5, 'E': 1, 'F': 0}\n"
          ]
        }
      ]
    },
    {
      "cell_type": "markdown",
      "source": [
        "(3.b) Assíncrona: utilize a equação abaixo para preencher a tabela abaixo (da direita para esquerda, de cima para baixo). Em cada iteração utilize os valores de $V(s)$ calculado na iteração anterior.\n",
        "  \n",
        "$$ V(s) \\gets \\min_{s'\\in N(s)}\\left\\{ c(s,s') + V(s')\\right\\} $$"
      ],
      "metadata": {
        "id": "aGSTn-UL6LLd"
      }
    },
    {
      "cell_type": "code",
      "source": [
        "V = { 'A' : 0, 'B' : 0, 'C' : 0, 'D' : 0, 'E' : 0, 'F' : 0 }\n",
        "Vs = [None]*7\n",
        "Vs[0] = V\n",
        "print('V{}(s) = {}'.format(0,Vs[0]))\n",
        "for t in range(1,6):\n",
        "  Vs[t] = {}\n",
        "  for s in 'EDCBA':\n",
        "    values = [];\n",
        "    for ss in grafo[s]:\n",
        "      v = custo[s+ss] + V[ss]\n",
        "      values = values + [v]\n",
        "    V[s] = min(values)\n",
        "  Vs[t] = V\n",
        "  print('V{}(s) = {}'.format(t,Vs[t]))\n"
      ],
      "metadata": {
        "colab": {
          "base_uri": "https://localhost:8080/"
        },
        "id": "byGwBeqh2jcT",
        "outputId": "69eab6c6-370b-496b-e5c1-4bbfd68f81c8"
      },
      "execution_count": null,
      "outputs": [
        {
          "output_type": "stream",
          "name": "stdout",
          "text": [
            "V0(s) = {'A': 0, 'B': 0, 'C': 0, 'D': 0, 'E': 0, 'F': 0}\n",
            "V1(s) = {'A': 2, 'B': 1, 'C': 2, 'D': 1, 'E': 1, 'F': 0}\n",
            "V2(s) = {'A': 4, 'B': 3, 'C': 2, 'D': 2, 'E': 1, 'F': 0}\n",
            "V3(s) = {'A': 5, 'B': 4, 'C': 2, 'D': 4, 'E': 1, 'F': 0}\n",
            "V4(s) = {'A': 5, 'B': 4, 'C': 2, 'D': 5, 'E': 1, 'F': 0}\n",
            "V5(s) = {'A': 5, 'B': 4, 'C': 2, 'D': 5, 'E': 1, 'F': 0}\n"
          ]
        }
      ]
    },
    {
      "cell_type": "markdown",
      "source": [
        "**Processos Markoviano de Decisão:** considere a seguinte estocasticidade no resultado das ações; com probabilidade 0.5 a transição escolhida é realizada e com 0.5 retorna-se para o estado inicial (estado $A$)."
      ],
      "metadata": {
        "id": "Q4OBrvXH7OIz"
      }
    },
    {
      "cell_type": "markdown",
      "source": [
        "(4.a) Considere a política que escolhe o seguinte caminho: $A, B, C, E,$ e $F$. Calcule o custo esperado a partir de A."
      ],
      "metadata": {
        "id": "qYOsMlnc7WqF"
      }
    },
    {
      "cell_type": "code",
      "source": [
        "n = 200\n",
        "pi = {\n",
        "    'A' : 'B',\n",
        "    'B' : 'C',\n",
        "    'C' : 'E',\n",
        "    'D' : 'F',\n",
        "    'E' : 'F'\n",
        "}"
      ],
      "metadata": {
        "id": "jmGsfbJWEhep"
      },
      "execution_count": null,
      "outputs": []
    },
    {
      "cell_type": "markdown",
      "source": [
        "Versão Value Iteration"
      ],
      "metadata": {
        "id": "79DtIsce-8eF"
      }
    },
    {
      "cell_type": "code",
      "source": [
        "V = { 'A' : 0, 'B' : 0, 'C' : 0, 'D' : 0, 'E' : 0, 'F' : 0 }\n",
        "print('V{}(s) = {}'.format(0,V))\n",
        "for t in range(1,n):\n",
        "  for s in 'EDCBA':\n",
        "    ss = pi[s]\n",
        "    V[s] = custo[s+ss] + 0.5*V[ss] + 0.5*V['A']\n",
        "  if t % 20 == 0:  \n",
        "    print('V{}(s) = {}'.format(t,V))"
      ],
      "metadata": {
        "colab": {
          "base_uri": "https://localhost:8080/"
        },
        "id": "JDI_iOCK7WOs",
        "outputId": "bd6a4a68-bc32-492f-9a06-4a3781c0d23d"
      },
      "execution_count": null,
      "outputs": [
        {
          "output_type": "stream",
          "name": "stdout",
          "text": [
            "V0(s) = {'A': 0, 'B': 0, 'C': 0, 'D': 0, 'E': 0, 'F': 0}\n",
            "V20(s) = {'A': 27.54776598424322, 'B': 26.244581585293673, 'C': 21.638212787394576, 'D': 18.425475191596384, 'E': 14.425475191596384, 'F': 0}\n",
            "V40(s) = {'A': 35.12502115999624, 'B': 33.316686415996486, 'C': 27.70001692799699, 'D': 22.466677951997994, 'E': 18.466677951997994, 'F': 0}\n",
            "V60(s) = {'A': 37.20921179931399, 'B': 35.261931012693054, 'C': 29.36736943945119, 'D': 23.57824629296746, 'E': 19.57824629296746, 'F': 0}\n",
            "V80(s) = {'A': 37.782486754461345, 'B': 35.79698763749726, 'C': 29.82598940356908, 'D': 23.88399293571272, 'E': 19.88399293571272, 'F': 0}\n",
            "V100(s) = {'A': 37.94017106989747, 'B': 35.944159665237635, 'C': 29.952136855917974, 'D': 23.96809123727865, 'E': 19.96809123727865, 'F': 0}\n",
            "V120(s) = {'A': 37.98354352688567, 'B': 35.98464062509329, 'C': 29.986834821508538, 'D': 23.991223214339026, 'E': 19.991223214339026, 'F': 0}\n",
            "V140(s) = {'A': 37.995473502419344, 'B': 35.995775268924724, 'C': 29.996378801935478, 'D': 23.997585867956985, 'E': 19.997585867956985, 'F': 0}\n",
            "V160(s) = {'A': 37.99875494705303, 'B': 35.99883795058283, 'C': 29.999003957642426, 'D': 23.999335971761617, 'E': 19.999335971761617, 'F': 0}\n",
            "V180(s) = {'A': 37.99965753724306, 'B': 35.99968036809352, 'C': 29.99972602979445, 'D': 23.9998173531963, 'E': 19.9998173531963, 'F': 0}\n"
          ]
        }
      ]
    },
    {
      "cell_type": "markdown",
      "source": [
        "Versão Sistema de Equações"
      ],
      "metadata": {
        "id": "MnYTuE9V_lvC"
      }
    },
    {
      "cell_type": "code",
      "source": [
        "import numpy as np\n",
        "Ato1 = { 'A':0, 'B':1, 'C':2, 'D':3, 'E':4, 'F':5 }\n",
        "T = np.zeros( (6,6) )\n",
        "C = np.zeros( (6,1) )\n",
        "for a in 'ABCDE':\n",
        "  s = Ato1[a]\n",
        "  ss = Ato1[pi[a]]\n",
        "  T[s,ss] += 0.5\n",
        "  ss = Ato1['A']\n",
        "  T[s,ss] += 0.5\n",
        "  C[s,0] = custo[a+pi[a]]\n",
        "C[5,0] = 0\n",
        "\n",
        "V = np.linalg.inv( np.identity(6) - T )@C\n",
        "\n",
        "print(V)"
      ],
      "metadata": {
        "colab": {
          "base_uri": "https://localhost:8080/"
        },
        "id": "ePjalyLr_qHR",
        "outputId": "a4e34124-6435-450a-ebba-1a2709cdd632"
      },
      "execution_count": null,
      "outputs": [
        {
          "output_type": "stream",
          "name": "stdout",
          "text": [
            "[[38.]\n",
            " [36.]\n",
            " [30.]\n",
            " [24.]\n",
            " [20.]\n",
            " [ 0.]]\n"
          ]
        }
      ]
    },
    {
      "cell_type": "markdown",
      "source": [
        "(4.b) Encontre a política ótima e a respectiva função valor. "
      ],
      "metadata": {
        "id": "Qu_GrwQc7ieH"
      }
    },
    {
      "cell_type": "code",
      "source": [
        "n = 100\n",
        "V = { 'A' : 0, 'B' : 0, 'C' : 0, 'D' : 0, 'E' : 0, 'F' : 0 }\n",
        "print('V{}(s) = {}'.format(0,V))\n",
        "for t in range(1,n):\n",
        "  for s in 'EDCBA':\n",
        "    values = [];\n",
        "    for ss in grafo[s]:\n",
        "      v = custo[s+ss] + 0.5*V[ss] + 0.5*V['A']\n",
        "      values = values + [v]\n",
        "    V[s] = min(values)\n",
        "  if t % 10 == 0:  \n",
        "    print('V{}(s) = {}'.format(t,V))"
      ],
      "metadata": {
        "colab": {
          "base_uri": "https://localhost:8080/"
        },
        "id": "AWStKjNT7nD5",
        "outputId": "987965c5-dde4-43ea-ed2a-34ac4ac24406"
      },
      "execution_count": null,
      "outputs": [
        {
          "output_type": "stream",
          "name": "stdout",
          "text": [
            "V0(s) = {'A': 0, 'B': 0, 'C': 0, 'D': 0, 'E': 0, 'F': 0}\n",
            "V10(s) = {'A': 14.2958984375, 'B': 13.396484375, 'C': 9.59765625, 'D': 11.59765625, 'E': 7.59765625, 'F': 0}\n",
            "V20(s) = {'A': 19.973239042620662, 'B': 18.262776322246282, 'C': 12.841850881497521, 'D': 14.841850881497521, 'E': 10.841850881497521, 'F': 0}\n",
            "V30(s) = {'A': 21.46680869339108, 'B': 19.542978880049496, 'C': 13.695319253366332, 'D': 15.695319253366332, 'E': 11.695319253366332, 'F': 0}\n",
            "V40(s) = {'A': 21.859730389808313, 'B': 19.879768905549984, 'C': 13.919845937033323, 'D': 15.919845937033323, 'E': 11.919845937033323, 'F': 0}\n",
            "V50(s) = {'A': 21.96309849148055, 'B': 19.968370135554757, 'C': 13.97891342370317, 'D': 15.97891342370317, 'E': 11.97891342370317, 'F': 0}\n",
            "V60(s) = {'A': 21.990292114384932, 'B': 19.991678955187083, 'C': 13.99445263679139, 'D': 15.99445263679139, 'E': 11.99445263679139, 'F': 0}\n",
            "V70(s) = {'A': 21.997446092398484, 'B': 19.99781093634156, 'C': 13.998540624227704, 'D': 15.998540624227704, 'E': 11.998540624227704, 'F': 0}\n",
            "V80(s) = {'A': 21.999328129286262, 'B': 19.999424110816797, 'C': 13.999616073877863, 'D': 15.999616073877863, 'E': 11.999616073877863, 'F': 0}\n",
            "V90(s) = {'A': 21.999823247224874, 'B': 19.999848497621322, 'C': 13.999898998414215, 'D': 15.999898998414215, 'E': 11.999898998414215, 'F': 0}\n"
          ]
        }
      ]
    }
  ]
}
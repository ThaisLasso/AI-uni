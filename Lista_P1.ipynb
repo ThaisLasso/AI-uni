{
  "nbformat": 4,
  "nbformat_minor": 0,
  "metadata": {
    "colab": {
      "name": "Lista_P1.ipynb",
      "provenance": [],
      "include_colab_link": true
    },
    "kernelspec": {
      "name": "python3",
      "display_name": "Python 3"
    },
    "language_info": {
      "name": "python"
    }
  },
  "cells": [
    {
      "cell_type": "markdown",
      "metadata": {
        "id": "view-in-github",
        "colab_type": "text"
      },
      "source": [
        "<a href=\"https://colab.research.google.com/github/ThaisLasso/AI-uni/blob/main/Lista_P1.ipynb\" target=\"_parent\"><img src=\"https://colab.research.google.com/assets/colab-badge.svg\" alt=\"Open In Colab\"/></a>"
      ]
    },
    {
      "cell_type": "markdown",
      "source": [
        "**Lista de Exercícios - P1**\n",
        "\n",
        "Nos exercícios abaixo, considere os seguintes dados de treinamento para um problema de classificação binária:"
      ],
      "metadata": {
        "id": "ZGWy9jkYYNsa"
      }
    },
    {
      "cell_type": "code",
      "execution_count": null,
      "metadata": {
        "colab": {
          "base_uri": "https://localhost:8080/"
        },
        "id": "rFgLhxHfYGWN",
        "outputId": "c69b62eb-3512-43f1-c1cc-9dfa656a8638"
      },
      "outputs": [
        {
          "output_type": "stream",
          "name": "stdout",
          "text": [
            "[[ 0.4   1.34  1.  ]\n",
            " [-1.77 -1.44  1.  ]\n",
            " [ 0.39  1.13  1.  ]\n",
            " [-1.75 -1.18  1.  ]\n",
            " [-1.2  -1.24  1.  ]\n",
            " [ 1.07  0.96  1.  ]\n",
            " [ 1.01 -0.12  0.  ]\n",
            " [ 1.31  0.52  0.  ]\n",
            " [-0.86 -1.52  1.  ]\n",
            " [ 1.26  1.63  1.  ]\n",
            " [ 0.23  0.36  0.  ]\n",
            " [ 0.03 -0.35  0.  ]\n",
            " [-1.55 -0.82  1.  ]\n",
            " [ 0.33  0.91  1.  ]\n",
            " [ 1.43  0.33  0.  ]]\n"
          ]
        }
      ],
      "source": [
        "import numpy as np\n",
        "\n",
        "X = np.array([[0.40, 1.34], [-1.77, -1.44], [0.39, 1.13], [-1.75, -1.18], [-1.20, -1.24],\n",
        "     [1.07, 0.96], [1.01, -0.12], [1.31, 0.52], [-0.86, -1.52], [1.26, 1.63],\n",
        "     [0.23, 0.36], [0.03, -0.35], [-1.55, -0.82], [0.33, 0.91], [1.43, 0.33]\n",
        "     ])\n",
        "Y = np.transpose(np.array([[1, 1, 1, 1, 1, 1, 0, 0, 1, 1, 0, 0, 1, 1, 0]]),(1,0))\n",
        "print(np.concatenate((X,Y),axis=1))"
      ]
    },
    {
      "cell_type": "markdown",
      "source": [
        "1. Plano Cartesiano:\n",
        "\n",
        "(a) Represente os dados em um plano cartesiano com símbolos ou cores diferentes para cada categoria (0 e 1)."
      ],
      "metadata": {
        "id": "kcfA-YU1dVA7"
      }
    },
    {
      "cell_type": "code",
      "source": [
        "import matplotlib.pyplot as plt\n",
        "\n",
        "\n",
        "def plot_pontos():\n",
        "  index = np.argwhere(Y[:,0]==1)\n",
        "  plt.plot(X[index,0],X[index,1],'ro')\n",
        "  index = np.argwhere(Y[:,0]==0)\n",
        "  plt.plot(X[index,0],X[index,1],'bo')\n",
        "  plt.xlabel('x_{1}')\n",
        "  plt.ylabel('x_{2}')\n",
        "\n",
        "plot_pontos()\n",
        "plt.show()\n",
        "\n"
      ],
      "metadata": {
        "colab": {
          "base_uri": "https://localhost:8080/",
          "height": 280
        },
        "id": "WdTKe9XsdPFH",
        "outputId": "1c0b9dd5-2044-4740-cfa9-568ad7c054c3"
      },
      "execution_count": null,
      "outputs": [
        {
          "output_type": "display_data",
          "data": {
            "text/plain": [
              "<Figure size 432x288 with 1 Axes>"
            ],
            "image/png": "[encoded data removed]"
          },
          "metadata": {
            "needs_background": "light"
          }
        }
      ]
    },
    {
      "cell_type": "markdown",
      "source": [
        "(b) Defina uma regra que classifique corretamente os exemplos da tabela.\n",
        "\n",
        "Se $x_{1}>0$ e $x_{2}\\leq 0.52$, então $y = 0$, caso contrário $y = 1$. "
      ],
      "metadata": {
        "id": "zeQN9OKhgHwz"
      }
    },
    {
      "cell_type": "markdown",
      "source": [
        "2. Árvore de Decisão:\n",
        "\n",
        "(a) Calcule a entropia do conjunto de treinamento.\n",
        "\n",
        "$H = -\\sum_{i=1}^{k} p_{k}\\log p_{k}$\n"
      ],
      "metadata": {
        "id": "CPCu_NnxhNv_"
      }
    },
    {
      "cell_type": "code",
      "source": [
        "def entropia(Y):\n",
        "  n_total = np.size(Y,axis=0)\n",
        "\n",
        "  values = np.unique(Y)\n",
        "  H = 0\n",
        "  for y in values:\n",
        "    index = np.argwhere(Y[:,0]==y)\n",
        "    n_y = np.size(index,axis=0)\n",
        "    p_y = n_y/n_total\n",
        "\n",
        "    if p_y > 0:\n",
        "      H += - p_y*np.log2(p_y)\n",
        "  return H\n",
        "\n",
        "H_total = entropia(Y)\n",
        "print('Entropia: ',H_total)"
      ],
      "metadata": {
        "colab": {
          "base_uri": "https://localhost:8080/"
        },
        "id": "EYos6SGxb14r",
        "outputId": "ed3adacd-febd-4926-fc72-adecf6c392dc"
      },
      "execution_count": null,
      "outputs": [
        {
          "output_type": "stream",
          "name": "stdout",
          "text": [
            "Entropia:  0.9182958340544896\n"
          ]
        }
      ]
    },
    {
      "cell_type": "markdown",
      "source": [
        "(b) Considere a pergunta $x_{1} \\geq 0$ e calcule a entropia média após obter a resposta a essa pergunta."
      ],
      "metadata": {
        "id": "emIferp0i-_1"
      }
    },
    {
      "cell_type": "code",
      "source": [
        "def Entropia_media(X,Y,variable,value):\n",
        "  n_total = np.size(Y,axis=0)\n",
        "\n",
        "  index = np.argwhere(X[:,variable] >= value)\n",
        "  X_geq = X[index,:]\n",
        "  Y_geq = Y[index,:]\n",
        "  n_geq = np.size(Y_geq,axis=0)\n",
        "  H_geq = entropia(Y_geq)\n",
        "  # print('Entropia (maior igual): ',H_geq,n_geq)\n",
        "\n",
        "  index = np.argwhere(X[:,variable] < value)\n",
        "  X_l = X[index,:]\n",
        "  Y_l = Y[index,:]\n",
        "  n_l = np.size(Y_l,axis=0)\n",
        "  H_l = entropia(Y_l)\n",
        "  # print('Entropia (menor): ',H_l,n_l)\n",
        "\n",
        "  H_medio = n_geq/n_total*H_geq + n_l/n_total*H_l\n",
        "  return H_medio\n",
        "\n",
        "H_media1 = Entropia_media(X,Y,0,0)\n",
        "print('Entropia média:', H_media1)"
      ],
      "metadata": {
        "colab": {
          "base_uri": "https://localhost:8080/"
        },
        "id": "hekJaf3xiWzH",
        "outputId": "0b6ea11c-41f2-4cb6-ad54-f06ee6584d50"
      },
      "execution_count": null,
      "outputs": [
        {
          "output_type": "stream",
          "name": "stdout",
          "text": [
            "Entropia média: 0.6666666666666666\n"
          ]
        }
      ]
    },
    {
      "cell_type": "markdown",
      "source": [
        "(c) Considere a pergunta $x_{2} \\geq 0$ e calcule a entropia média após obter a resposta a essa pergunta."
      ],
      "metadata": {
        "id": "es2Abssvnou1"
      }
    },
    {
      "cell_type": "code",
      "source": [
        "H_media2 = Entropia_media(X,Y,1,0)\n",
        "print('Entropia média:', H_media2)"
      ],
      "metadata": {
        "colab": {
          "base_uri": "https://localhost:8080/"
        },
        "id": "ZGMyeC5LkXhD",
        "outputId": "f61b9ade-36e7-4dda-db0c-c7541e9b3916"
      },
      "execution_count": null,
      "outputs": [
        {
          "output_type": "stream",
          "name": "stdout",
          "text": [
            "Entropia média: 0.9118210668910758\n"
          ]
        }
      ]
    },
    {
      "cell_type": "markdown",
      "source": [
        "(d) Calcule os ganhos de informação obtidos para as duas perguntas anteriores."
      ],
      "metadata": {
        "id": "oObwe8t-pp1U"
      }
    },
    {
      "cell_type": "code",
      "source": [
        "Ganho_1 = H_total - H_media1\n",
        "print('Ganho x_1 >= 0:', Ganho_1)\n",
        "Ganho_2 = H_total - H_media2\n",
        "print('Ganho x_2 >= 0:', Ganho_2)\n"
      ],
      "metadata": {
        "colab": {
          "base_uri": "https://localhost:8080/"
        },
        "id": "4OaLP_HQpyWl",
        "outputId": "c412ef66-5246-4062-e756-198feb0e5164"
      },
      "execution_count": null,
      "outputs": [
        {
          "output_type": "stream",
          "name": "stdout",
          "text": [
            "Ganho x_1 >= 0: 0.2516291673878229\n",
            "Ganho x_2 >= 0: 0.006474767163413775\n"
          ]
        }
      ]
    },
    {
      "cell_type": "markdown",
      "source": [
        "(e) Escolha a pergunta com maior ganho de informação para ser a raı́z da árvore e complete a árvore para classificar corretamente todos os exemplos da tabela.\n",
        "\n",
        "\\ \n",
        "\n",
        "Se $x_1 < 0$, saída igual 1.\n",
        "\n",
        "Caso contrário, se $x_2 > 0.8$, saída igual 1.\n",
        "\n",
        "Caso contrário, saída igual 0."
      ],
      "metadata": {
        "id": "oKvRsjGMBrwW"
      }
    },
    {
      "cell_type": "markdown",
      "source": [
        "3. Otimização:\n",
        "\n",
        "(a) Considere a seguinte parábola $x_1 − 3(x_2 )^2 + 1 = 0$, e a esboce no plano cartesiano da questão 1. Note que essa parábola separa perfeitamente os exemplos dos dados de treinamento."
      ],
      "metadata": {
        "id": "1RYxyIYVCTsO"
      }
    },
    {
      "cell_type": "code",
      "source": [
        "import matplotlib.pyplot as plt\n",
        "\n",
        "def plot_pontos_parabola():\n",
        "  plot_pontos()\n",
        "\n",
        "  x2 = np.arange(start=-2,stop=2,step=0.01)\n",
        "  x1 = 3*x2**2 - 1\n",
        "  plt.plot(x1,x2,'g')\n",
        "  plt.axis([-2, 2, -2, 2])\n",
        "\n",
        "  \n",
        "\n",
        "plot_pontos_parabola()\n",
        "plt.show()"
      ],
      "metadata": {
        "colab": {
          "base_uri": "https://localhost:8080/",
          "height": 284
        },
        "id": "Sm010_K7B_jh",
        "outputId": "b9ee1cf5-55c0-4ab7-a463-1c227e1e92b6"
      },
      "execution_count": null,
      "outputs": [
        {
          "output_type": "display_data",
          "data": {
            "text/plain": [
              "<Figure size 432x288 with 1 Axes>"
            ],
            "image/png": "[encoded data removed]"
          },
          "metadata": {
            "needs_background": "light"
          }
        }
      ]
    },
    {
      "cell_type": "markdown",
      "source": [
        "(b) Fazendo uso dessa parábola, construa um classificador que classifique corretamente todos exemplos da tabela.\n",
        "\n",
        "\\\n",
        "\n",
        "Se $x_1 − 3(x_2 )^2 + 1 > 0$, saı́da igual 0.\n",
        "\n",
        "Caso contrário, saı́da igual 1."
      ],
      "metadata": {
        "id": "_XZfXmztEOjs"
      }
    },
    {
      "cell_type": "markdown",
      "source": [
        "(c) Utilizando a distância euclidiana, encontre o ponto da parábola mais próximo do ponto $(x_1 = 0, x_2 = 1)$. Utilize o algoritmo de Newton.\n",
        "\n",
        "\\\n",
        "\n",
        "Considere abaixo que $\\hat{x}_1$ e $\\hat{x}_2$ indica o ponto de interesse, isto é, $\\hat{x}_1 = 0$ e $\\hat{x}_2 = 1$; enquanto $x_1$ e $x_2$ são pontos na parábola.\n",
        "\n",
        "Logo, queremos minizar:\n",
        "$$\n",
        "  \\min\\sqrt{(\\hat{x}_1-x_1)^2 + (\\hat{x}_2-x_2)^2},\n",
        "$$\n",
        "mas\n",
        "$$\n",
        "  \\arg\\min\\sqrt{(\\hat{x}_1-x_1)^2 + (\\hat{x}_2-x_2)^2} = \\arg\\min(\\hat{x}_1-x_1)^2 + (\\hat{x}_2-x_2)^2,\n",
        "$$\n",
        "\n",
        "Expressando tudo em termos de $x_2$, temos a função:\n",
        "$$\n",
        "f(x_2) = (\\hat{x}_1-3(x_2 )^2 + 1)^2 + (\\hat{x}_2-x_2)^2.\n",
        "$$\n",
        "\n",
        "Derivando temos:\n",
        "$$\n",
        "f'(x_2) = 2(\\hat{x}_1-3(x_2 )^2 + 1)(-6x_{2}) + 2(\\hat{x}_2-x_2)(-1) = 36(x_{2})^3 + (-12\\hat{x}_1 - 12+2)x_2 + (-2\\hat{x}_2)\n",
        "$$\n",
        "e\n",
        "$$\n",
        "f''(x_2) = 108(x_{2})^2 + (-12\\hat{x}_1 - 12+2)\n",
        "$$"
      ],
      "metadata": {
        "id": "PJdh4jacEde2"
      }
    },
    {
      "cell_type": "code",
      "source": [
        "hatx1 = 0\n",
        "hatx2 = 1\n",
        "x2 = 1\n",
        "\n",
        "for i in range(100):\n",
        "  f = 36*x2**3 + (-12*hatx1-12+2)*x2 + (-2*hatx2)\n",
        "  ff = 108*x2**2 + (-12*hatx1 -12 +2)\n",
        "  x2 = x2 - f/ff\n",
        "  \n",
        "\n",
        "x1 = 3*x2**2 - 1\n",
        "\n",
        "print('(x_1,x_2) = (',x1,',',x2,')')\n",
        "\n",
        "plot_pontos_parabola()\n",
        "plt.plot(x1,x2,'ks')\n",
        "plt.plot(hatx1,hatx2,'ks')\n",
        "plt.show()\n"
      ],
      "metadata": {
        "colab": {
          "base_uri": "https://localhost:8080/",
          "height": 301
        },
        "id": "aQYk3gmvEmjW",
        "outputId": "d1db8bf9-3dd8-4c4a-8afd-a316192bae4e"
      },
      "execution_count": null,
      "outputs": [
        {
          "output_type": "stream",
          "name": "stdout",
          "text": [
            "(x_1,x_2) = ( 0.10762521851076512 , 0.6076252185107651 )\n"
          ]
        },
        {
          "output_type": "display_data",
          "data": {
            "text/plain": [
              "<Figure size 432x288 with 1 Axes>"
            ],
            "image/png": "[encoded data removed]"
          },
          "metadata": {
            "needs_background": "light"
          }
        }
      ]
    },
    {
      "cell_type": "markdown",
      "source": [
        "4. Redes Neurais:\n",
        "\n",
        "(a) Considere uma Rede Neural com: dois atributos na entrada, uma camada escondida com 2 neurônios e uma camada de saı́da com 1 neurônio. Desenhe o esquema dessa rede neural (não esqueça da entrada de viés).\n",
        "\n"
      ],
      "metadata": {
        "id": "eQifBcc9Z4G5"
      }
    },
    {
      "cell_type": "markdown",
      "source": [
        "(b) Considere que $w_0$ representa o peso para o viés e que os pesos dos neurônios da camada escondida são dados por:"
      ],
      "metadata": {
        "id": "-vlp_uiAalQG"
      }
    },
    {
      "cell_type": "code",
      "source": [
        "w_input_hidden = np.array([[0.309, -3.438, 1.984],\n",
        "                           [1.628, 3.428, 2.851] ])\n",
        "w_hidden_output = np.array([[2.9992, 3.5103, -4.9397] ])"
      ],
      "metadata": {
        "id": "BJzYWbZoaxAf"
      },
      "execution_count": null,
      "outputs": []
    },
    {
      "cell_type": "markdown",
      "source": [
        "(c) Considere que a função de ativação de todos neurônios é a função logística. Para cada neurônio da camada escondida, especifique regiões de ativação (saída próxima de 1) e de não ativação (saída próxima de 0)."
      ],
      "metadata": {
        "id": "Qy6DIFXObWAy"
      }
    },
    {
      "cell_type": "code",
      "source": [
        "plot_pontos()\n",
        "\n",
        "plt.axis([-2, 2, -2, 2])\n",
        "\n",
        "x1 = np.arange(start=-2,stop=2,step=0.01)\n",
        "\n",
        "w = w_input_hidden[0,:]\n",
        "x2 = -(w[0]*x1 + w[2])/w[1]\n",
        "plt.plot(x1,x2,'g')\n",
        "\n",
        "w = w_input_hidden[1,:]\n",
        "x2 = -(w[0]*x1 + w[2])/w[1]\n",
        "plt.plot(x1,x2,'g')\n",
        "\n",
        "plt.show()\n",
        "\n"
      ],
      "metadata": {
        "colab": {
          "base_uri": "https://localhost:8080/",
          "height": 284
        },
        "id": "POBwgzkmbzwd",
        "outputId": "c6de1e2d-01a6-4529-d8a2-3b1f47978a92"
      },
      "execution_count": null,
      "outputs": [
        {
          "output_type": "display_data",
          "data": {
            "text/plain": [
              "<Figure size 432x288 with 1 Axes>"
            ],
            "image/png": "[encoded data removed]"
          },
          "metadata": {
            "needs_background": "light"
          }
        }
      ]
    },
    {
      "cell_type": "markdown",
      "source": [
        "(d) Quais combinações de ativação dos neurônios da cama escondida ativam o neurônio da camada de saída?\n",
        "\n",
        "\\\n",
        "\n",
        "Os dois neurônios devem ser ativados."
      ],
      "metadata": {
        "id": "RpMirZzad8Un"
      }
    },
    {
      "cell_type": "markdown",
      "source": [
        "(e) Calcule a saída da rede neural quando $(x_1 = 0.5, x_2 = −1)$."
      ],
      "metadata": {
        "id": "Uq6h5LkbeBs7"
      }
    },
    {
      "cell_type": "code",
      "source": [
        "input = np.transpose(np.array([[0.5, -1, 1]]))\n",
        "in_hidden = w_input_hidden@input\n",
        "a_hidden = 1/(1+np.exp(-in_hidden))\n",
        "a_hidden = np.concatenate((a_hidden,[[1]]))\n",
        "in_output = w_hidden_output@a_hidden\n",
        "output = 1/(1+np.exp(-in_output))\n",
        "print(output)\n"
      ],
      "metadata": {
        "colab": {
          "base_uri": "https://localhost:8080/"
        },
        "id": "H6-U3QB3eAij",
        "outputId": "cc4b33b6-a9b5-4ef4-da39-3111f6d8f436"
      },
      "execution_count": null,
      "outputs": [
        {
          "output_type": "stream",
          "name": "stdout",
          "text": [
            "[[0.50258889]]\n"
          ]
        }
      ]
    },
    {
      "cell_type": "markdown",
      "source": [
        "5. $k$-Vizinhos mais Próximos:\n",
        "\n",
        "(a) Considere a classificação com base em votação e esboce as regiões referentes a cada categoria quando $k = 1$."
      ],
      "metadata": {
        "id": "Px8dXhKd-tm2"
      }
    },
    {
      "cell_type": "code",
      "source": [
        "for x1 in np.arange(-2,2,0.1):\n",
        "  for x2 in np.arange(-2,2,0.1):\n",
        "    dist = np.sum((X - np.array([[x1,x2]]))**2,axis=1)\n",
        "    index = np.argmin(dist)\n",
        "    if Y[index,:] == 0:\n",
        "      plt.plot(x1,x2,'co')\n",
        "    else:\n",
        "      plt.plot(x1,x2,'yo')\n",
        "\n",
        "plot_pontos()\n",
        "plt.show()"
      ],
      "metadata": {
        "colab": {
          "base_uri": "https://localhost:8080/",
          "height": 280
        },
        "id": "9BplV6b3_PoZ",
        "outputId": "745c5d5a-f24a-41fe-dcf4-3fc2f1402d36"
      },
      "execution_count": null,
      "outputs": [
        {
          "output_type": "display_data",
          "data": {
            "text/plain": [
              "<Figure size 432x288 with 1 Axes>"
            ],
            "image/png": "[encoded data removed]"
          },
          "metadata": {
            "needs_background": "light"
          }
        }
      ]
    },
    {
      "cell_type": "markdown",
      "source": [
        "(b) Repita o item anterior quando $k = 3$.\n",
        "\n"
      ],
      "metadata": {
        "id": "deqF2eTiDcvL"
      }
    },
    {
      "cell_type": "code",
      "source": [
        "k = 3;\n",
        "for x1 in np.arange(-2,2,0.1):\n",
        "  for x2 in np.arange(-2,2,0.1):\n",
        "    dist = np.sum((X - np.array([[x1,x2]]))**2,axis=1)\n",
        "    index = np.argsort(dist)\n",
        "    if np.mean(Y[index[0:k],:]) < 0.5:\n",
        "      plt.plot(x1,x2,'co')\n",
        "    else:\n",
        "      plt.plot(x1,x2,'yo')\n",
        "\n",
        "plot_pontos()\n",
        "plt.show()"
      ],
      "metadata": {
        "colab": {
          "base_uri": "https://localhost:8080/",
          "height": 280
        },
        "id": "g7SNzkJT_202",
        "outputId": "ef516e03-015b-4040-c9a7-511cfd8af102"
      },
      "execution_count": null,
      "outputs": [
        {
          "output_type": "display_data",
          "data": {
            "text/plain": [
              "<Figure size 432x288 with 1 Axes>"
            ],
            "image/png": "[encoded data removed]"
          },
          "metadata": {
            "needs_background": "light"
          }
        }
      ]
    },
    {
      "cell_type": "markdown",
      "source": [
        "6. Medidas de Desempenho:\n",
        "\n",
        "(a) Os exemplos da tabela não podem ser separados de forma perfeita por uma única reta. Encontre a reta que obtém revocação 1.0 e maximiza a precisão."
      ],
      "metadata": {
        "id": "BSoQ6jcEDlIz"
      }
    },
    {
      "cell_type": "code",
      "source": [
        "def plot_pontos_text():\n",
        "  for index in range(np.size(Y,0)):\n",
        "    if Y[index,0]==1:\n",
        "      plt.plot(X[index,0],X[index,1],'ro')\n",
        "      plt.text(X[index,0],X[index,1],'%d' % (index+1))\n",
        "    else:\n",
        "      plt.plot(X[index,0],X[index,1],'bo')\n",
        "      plt.text(X[index,0],X[index,1],'%d' % (index+1))\n",
        "  plt.xlabel('x_{1}')\n",
        "  plt.ylabel('x_{2}')\n",
        "\n",
        "plot_pontos_text()\n",
        "ponto1 = 6-1\n",
        "ponto2 = 9-1\n",
        "X_plot = X[[ponto1,ponto2],:]\n",
        "X_plot = 2*X_plot - X_plot[[1,0],:]\n",
        "plt.plot(X_plot[:,0],X_plot[:,1],'g')\n",
        "plt.axis([-2, 2, -2, 2])\n",
        "plt.show()"
      ],
      "metadata": {
        "colab": {
          "base_uri": "https://localhost:8080/",
          "height": 284
        },
        "id": "WhMMwNW_EFv8",
        "outputId": "8e50c497-4342-498e-fc67-a73ad05fcf37"
      },
      "execution_count": null,
      "outputs": [
        {
          "output_type": "display_data",
          "data": {
            "text/plain": [
              "<Figure size 432x288 with 1 Axes>"
            ],
            "image/png": "[encoded data removed]"
          },
          "metadata": {
            "needs_background": "light"
          }
        }
      ]
    },
    {
      "cell_type": "markdown",
      "source": [
        "(b) No item anterior, calcule a precisão obtida."
      ],
      "metadata": {
        "id": "zcBHYtL2KHqX"
      }
    },
    {
      "cell_type": "code",
      "source": [
        "\n",
        "10/12"
      ],
      "metadata": {
        "colab": {
          "base_uri": "https://localhost:8080/"
        },
        "id": "ghKaIILxKUy6",
        "outputId": "93099b10-462f-4ad2-cf91-b70ab515793e"
      },
      "execution_count": null,
      "outputs": [
        {
          "output_type": "execute_result",
          "data": {
            "text/plain": [
              "0.8333333333333334"
            ]
          },
          "metadata": {},
          "execution_count": 15
        }
      ]
    },
    {
      "cell_type": "markdown",
      "source": [
        "(c) Encontre a reta que obtém precisão 1.0 e maximiza a revocação."
      ],
      "metadata": {
        "id": "zkDGcbTgKijS"
      }
    },
    {
      "cell_type": "code",
      "source": [
        "plot_pontos_text()\n",
        "ponto1 = 14-1\n",
        "ponto2 = 9-1\n",
        "X_plot = X[[ponto1,ponto2],:]\n",
        "X_plot = 2*X_plot - X_plot[[1,0],:]\n",
        "plt.plot(X_plot[:,0],X_plot[:,1],'g')\n",
        "plt.axis([-2, 2, -2, 2])\n",
        "plt.show()"
      ],
      "metadata": {
        "colab": {
          "base_uri": "https://localhost:8080/",
          "height": 284
        },
        "id": "UfDM2qgVKoBE",
        "outputId": "f152fabd-0f78-4dce-e3c4-0986b2d63989"
      },
      "execution_count": null,
      "outputs": [
        {
          "output_type": "display_data",
          "data": {
            "text/plain": [
              "<Figure size 432x288 with 1 Axes>"
            ],
            "image/png": "[encoded data removed]"
          },
          "metadata": {
            "needs_background": "light"
          }
        }
      ]
    },
    {
      "cell_type": "markdown",
      "source": [
        "(d) No item anterior, calcule a revocação obtida."
      ],
      "metadata": {
        "id": "-5WM3FOAK2-6"
      }
    },
    {
      "cell_type": "code",
      "source": [
        "8/10"
      ],
      "metadata": {
        "colab": {
          "base_uri": "https://localhost:8080/"
        },
        "id": "rYFf2ZE7K55m",
        "outputId": "b99596ad-588c-4dad-c5eb-4b648deab55c"
      },
      "execution_count": null,
      "outputs": [
        {
          "output_type": "execute_result",
          "data": {
            "text/plain": [
              "0.8"
            ]
          },
          "metadata": {},
          "execution_count": 17
        }
      ]
    }
  ]
}